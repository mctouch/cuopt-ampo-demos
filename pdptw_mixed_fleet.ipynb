{
 "cells": [
  {
   "cell_type": "code",
   "execution_count": 1,
   "id": "3631e3f7",
   "metadata": {},
   "outputs": [],
   "source": [
    "from cuopt import routing\n",
    "import cudf"
   ]
  },
  {
   "cell_type": "markdown",
   "id": "9326712e",
   "metadata": {},
   "source": [
    "# Heterogenous Fleet Routing\n",
    "## Pickup and Delivery Problem with Time Windows using Heterogenous Fleet of Vehicles"
   ]
  },
  {
   "cell_type": "markdown",
   "id": "382afbd9",
   "metadata": {},
   "source": [
    "In scenarios such as food delivery, the delivery fleet may consist of various types of vehicles, for example bikes, and cars, and each type of vehicle has own advantages and limitations. For example, in crowded streets of NYC, it might be faster to reach a nearby destination on bike compared to car, while it is much faster with car in suburban areas. Service provides can improve customer satisfaction, reduce costs, and increase earning opportunity for drivers, using various types of vehicles depending on the geography of the service area.  "
   ]
  },
  {
   "cell_type": "markdown",
   "id": "c3bc4ad4",
   "metadata": {},
   "source": [
    "### Problem Details:\n",
    "- 5 customer orders each with an associated demand, merchant, and time windows \n",
    "- 2 merchants \n",
    "- 3 vehicles \n",
    "  - 2 bikes \n",
    "  - 1 car\n",
    "- 7 locations in total (5 customers + 2 merchants)"
   ]
  },
  {
   "cell_type": "markdown",
   "id": "7af883ad",
   "metadata": {},
   "source": [
    "### Cost Matrix"
   ]
  },
  {
   "cell_type": "markdown",
   "id": "52bdc1d0",
   "metadata": {},
   "source": [
    "#### Define cost matrix for each vehicle type"
   ]
  },
  {
   "cell_type": "code",
   "execution_count": 2,
   "id": "9975bf1a",
   "metadata": {},
   "outputs": [
    {
     "name": "stdout",
     "output_type": "stream",
     "text": [
      "time matrix for bike:: \n",
      "       0     1     2     3     4     5     6\n",
      "0   0.0  15.0  10.0   9.0  10.0  21.0   6.0\n",
      "1  15.0   0.0   6.0  15.0  12.0   5.0   4.0\n",
      "2  10.0   6.0   0.0   9.0  20.0  12.0   9.0\n",
      "3   9.0  15.0   9.0   0.0  20.0  22.0  20.0\n",
      "4  10.0  12.0  20.0  20.0   0.0  15.0   8.0\n",
      "5  21.0   5.0  12.0  22.0  15.0   0.0   8.0\n",
      "6   6.0   4.0   9.0  20.0   8.0   8.0   0.0 \n",
      "\n",
      "time matrix for car:: \n",
      "      0    1     2     3     4     5     6\n",
      "0  0.0  6.0   5.0   6.0   6.0   7.0   4.0\n",
      "1  6.0  0.0   3.0   8.0   7.0   3.0   2.0\n",
      "2  5.0  3.0   0.0   4.0  11.0   6.0   4.0\n",
      "3  6.0  8.0   4.0   0.0  12.0  11.0  10.0\n",
      "4  6.0  7.0  11.0  12.0   0.0   7.0   4.0\n",
      "5  7.0  3.0   6.0  11.0   7.0   0.0   3.0\n",
      "6  4.0  2.0   4.0  10.0   4.0   3.0   0.0 \n",
      "\n"
     ]
    }
   ],
   "source": [
    "# locations 0, 1 correspond to merchant \n",
    "# locations 2 to 6 correspond to customers\n",
    "n_locations = 7\n",
    "time_matrix_car = cudf.DataFrame([\n",
    "    [0., 6.,  5., 6., 6., 7., 4.], \n",
    "    [6., 0.,  3., 8., 7., 3., 2.], \n",
    "    [5., 3.,  0., 4., 11., 6., 4.], \n",
    "    [6., 8.,  4., 0., 12., 11., 10.], \n",
    "    [6., 7., 11., 12., 0., 7., 4.],\n",
    "    [7., 3.,  6., 11., 7., 0.,  3.], \n",
    "    [4., 2.,  4., 10., 4., 3.,  0.]])\n",
    "\n",
    "time_matrix_bike = cudf.DataFrame([\n",
    "    [0., 15., 10.,  9.,  10.,  21., 6.],\n",
    "    [15., 0.,  6.,  15.,  12., 5., 4.], \n",
    "    [10., 6.,  0.,   9.,  20, 12., 9.],\n",
    "    [9., 15.,  9.,  0., 20., 22., 20.],\n",
    "    [10.,12., 20., 20., 0., 15., 8.], \n",
    "    [21., 5., 12., 22., 15., 0., 8.], \n",
    "    [6.,  4., 9., 20., 8.,  8.,  0.]])\n",
    "\n",
    "print('time matrix for bike:: \\n', time_matrix_bike, '\\n')\n",
    "print('time matrix for car:: \\n', time_matrix_car, '\\n')"
   ]
  },
  {
   "cell_type": "markdown",
   "id": "f2aaf28a",
   "metadata": {},
   "source": [
    "### Fleet Data"
   ]
  },
  {
   "cell_type": "markdown",
   "id": "a4e5e749",
   "metadata": {},
   "source": [
    "Set up mixed fleet data"
   ]
  },
  {
   "cell_type": "code",
   "execution_count": 3,
   "id": "9e17e899",
   "metadata": {},
   "outputs": [
    {
     "name": "stdout",
     "output_type": "stream",
     "text": [
      "3\n",
      "0    0\n",
      "1    0\n",
      "2    1\n",
      "dtype: int64\n",
      "0    2\n",
      "1    2\n",
      "2    5\n",
      "dtype: int64\n"
     ]
    }
   ],
   "source": [
    "n_vehicles = 3\n",
    "\n",
    "# type 0 corresponds to bike and type 1 corresponds to car\n",
    "vehicle_types = cudf.Series([0, 0, 1])\n",
    "\n",
    "# bikes can carry two units of goods while car can carry 5 units of goods\n",
    "vehicle_capacity = cudf.Series([2, 2, 5])\n",
    "\n",
    "print(n_vehicles)\n",
    "print(vehicle_types)\n",
    "print(vehicle_capacity)"
   ]
  },
  {
   "cell_type": "markdown",
   "id": "4ed911ff",
   "metadata": {},
   "source": [
    "### Customer Orders"
   ]
  },
  {
   "cell_type": "markdown",
   "id": "4265c03a",
   "metadata": {},
   "source": [
    "Setup Customer Order Data"
   ]
  },
  {
   "cell_type": "markdown",
   "id": "d7d7536d",
   "metadata": {},
   "source": [
    "The customer order data contains the information of merchant, the amount of goods, and the time window for the delivery."
   ]
  },
  {
   "cell_type": "code",
   "execution_count": 4,
   "id": "72b715c7",
   "metadata": {},
   "outputs": [
    {
     "data": {
      "text/html": [
       "<div>\n",
       "<style scoped>\n",
       "    .dataframe tbody tr th:only-of-type {\n",
       "        vertical-align: middle;\n",
       "    }\n",
       "\n",
       "    .dataframe tbody tr th {\n",
       "        vertical-align: top;\n",
       "    }\n",
       "\n",
       "    .dataframe thead th {\n",
       "        text-align: right;\n",
       "    }\n",
       "</style>\n",
       "<table border=\"1\" class=\"dataframe\">\n",
       "  <thead>\n",
       "    <tr style=\"text-align: right;\">\n",
       "      <th></th>\n",
       "      <th>pickup_location</th>\n",
       "      <th>delivery_location</th>\n",
       "      <th>order_demand</th>\n",
       "      <th>earliest_pickup</th>\n",
       "      <th>latest_pickup</th>\n",
       "      <th>pickup_service_time</th>\n",
       "      <th>earliest_delivery</th>\n",
       "      <th>latest_delivery</th>\n",
       "      <th>delivery_serivice_time</th>\n",
       "    </tr>\n",
       "  </thead>\n",
       "  <tbody>\n",
       "    <tr>\n",
       "      <th>0</th>\n",
       "      <td>0</td>\n",
       "      <td>2</td>\n",
       "      <td>1</td>\n",
       "      <td>0</td>\n",
       "      <td>30</td>\n",
       "      <td>10</td>\n",
       "      <td>0</td>\n",
       "      <td>30</td>\n",
       "      <td>10</td>\n",
       "    </tr>\n",
       "    <tr>\n",
       "      <th>1</th>\n",
       "      <td>0</td>\n",
       "      <td>3</td>\n",
       "      <td>2</td>\n",
       "      <td>0</td>\n",
       "      <td>120</td>\n",
       "      <td>10</td>\n",
       "      <td>0</td>\n",
       "      <td>120</td>\n",
       "      <td>10</td>\n",
       "    </tr>\n",
       "    <tr>\n",
       "      <th>2</th>\n",
       "      <td>1</td>\n",
       "      <td>4</td>\n",
       "      <td>2</td>\n",
       "      <td>0</td>\n",
       "      <td>60</td>\n",
       "      <td>10</td>\n",
       "      <td>0</td>\n",
       "      <td>60</td>\n",
       "      <td>10</td>\n",
       "    </tr>\n",
       "    <tr>\n",
       "      <th>3</th>\n",
       "      <td>1</td>\n",
       "      <td>5</td>\n",
       "      <td>1</td>\n",
       "      <td>0</td>\n",
       "      <td>120</td>\n",
       "      <td>10</td>\n",
       "      <td>0</td>\n",
       "      <td>120</td>\n",
       "      <td>10</td>\n",
       "    </tr>\n",
       "    <tr>\n",
       "      <th>4</th>\n",
       "      <td>1</td>\n",
       "      <td>6</td>\n",
       "      <td>2</td>\n",
       "      <td>0</td>\n",
       "      <td>45</td>\n",
       "      <td>10</td>\n",
       "      <td>0</td>\n",
       "      <td>45</td>\n",
       "      <td>10</td>\n",
       "    </tr>\n",
       "  </tbody>\n",
       "</table>\n",
       "</div>"
      ],
      "text/plain": [
       "   pickup_location  delivery_location  order_demand  earliest_pickup  \\\n",
       "0                0                  2             1                0   \n",
       "1                0                  3             2                0   \n",
       "2                1                  4             2                0   \n",
       "3                1                  5             1                0   \n",
       "4                1                  6             2                0   \n",
       "\n",
       "   latest_pickup  pickup_service_time  earliest_delivery  latest_delivery  \\\n",
       "0             30                   10                  0               30   \n",
       "1            120                   10                  0              120   \n",
       "2             60                   10                  0               60   \n",
       "3            120                   10                  0              120   \n",
       "4             45                   10                  0               45   \n",
       "\n",
       "   delivery_serivice_time  \n",
       "0                      10  \n",
       "1                      10  \n",
       "2                      10  \n",
       "3                      10  \n",
       "4                      10  "
      ]
     },
     "execution_count": 4,
     "metadata": {},
     "output_type": "execute_result"
    }
   ],
   "source": [
    "customer_order_data = cudf.DataFrame({\n",
    "    \"pickup_location\":       [0,  0,  1,  1,  1],\n",
    "    \"delivery_location\":     [2,  3,  4,  5,  6],\n",
    "    \"order_demand\":          [1,  2,  2,  1,  2],\n",
    "    \"earliest_pickup\":       [0,  0,  0,  0,  0],\n",
    "    \"latest_pickup\":         [30, 120, 60, 120, 45],\n",
    "    \"pickup_service_time\":   [10,  10,  10,  10,  10],\n",
    "    \"earliest_delivery\":     [0,  0,  0,  0,  0],\n",
    "    \"latest_delivery\":       [30, 120, 60, 120, 45],\n",
    "    \"delivery_serivice_time\":[10,  10,  10,  10,  10]\n",
    "})\n",
    "customer_order_data"
   ]
  },
  {
   "cell_type": "markdown",
   "id": "31db9053",
   "metadata": {},
   "source": [
    "### cuOpt routing DataModel"
   ]
  },
  {
   "cell_type": "markdown",
   "id": "731fdcbe",
   "metadata": {},
   "source": [
    "#### Initialize routing.DataModel object"
   ]
  },
  {
   "cell_type": "code",
   "execution_count": 5,
   "id": "2e765325",
   "metadata": {},
   "outputs": [],
   "source": [
    "# a pickup order and a delivery order are distinct\n",
    "n_orders = len(customer_order_data) * 2\n",
    "\n",
    "data_model = routing.DataModel(n_locations, n_vehicles, n_orders)"
   ]
  },
  {
   "cell_type": "markdown",
   "id": "bc27baca",
   "metadata": {},
   "source": [
    "#### Set Vehicle types and corresponding cost matrices"
   ]
  },
  {
   "cell_type": "code",
   "execution_count": 6,
   "id": "7a4804c2",
   "metadata": {},
   "outputs": [],
   "source": [
    "# set matrices associated with each vehicle type\n",
    "data_model.set_vehicle_types(vehicle_types)\n",
    "\n",
    "data_model.add_cost_matrix(time_matrix_bike, 0)\n",
    "data_model.add_cost_matrix(time_matrix_car, 1)"
   ]
  },
  {
   "cell_type": "markdown",
   "id": "48706e31",
   "metadata": {},
   "source": [
    "#### Setting Order locations\n",
    "From the cuOpt solver_settings perspective, each distinct transaction (pickup order or delivery order) is treated separately. The locations for each order is specified using order locations. The first entry in order locations array is always reserved for the notion of depot for the problem. So for a total n orders, the order location array is of size 2n+1.  "
   ]
  },
  {
   "cell_type": "code",
   "execution_count": 7,
   "id": "1d325f4b",
   "metadata": {},
   "outputs": [
    {
     "name": "stdout",
     "output_type": "stream",
     "text": [
      "0    0\n",
      "1    0\n",
      "2    1\n",
      "3    1\n",
      "4    1\n",
      "5    2\n",
      "6    3\n",
      "7    4\n",
      "8    5\n",
      "9    6\n",
      "dtype: int64\n"
     ]
    }
   ],
   "source": [
    "pickup_order_locations = customer_order_data['pickup_location'] \n",
    "delivery_order_locations = customer_order_data['delivery_location']\n",
    "order_locations = cudf.concat([pickup_order_locations, delivery_order_locations], ignore_index=True)\n",
    "\n",
    "print(order_locations)\n",
    "\n",
    "# add order locations\n",
    "data_model.set_order_locations(order_locations)"
   ]
  },
  {
   "cell_type": "markdown",
   "id": "9389060b",
   "metadata": {},
   "source": [
    "#### Mapping pickups to deliveries\n",
    "Order locations do not provide information regarding the type of order (i.e, pickup or delivery). This information is provided to solver by setting two arrays pickup_orders and delivery_orders. The entries of these arrays corresponding the order numbers in exanded list described above. \n",
    "\n",
    "For a pair order i, pickup_orders[i] and delivery_orders[i] correspond to order index in 2n total orders. Furthermore, order_locations[pickup_orders[i]] and order_locations[delivery_orders[i]] indicate the pickup location and delivery location of order i. "
   ]
  },
  {
   "cell_type": "code",
   "execution_count": 8,
   "id": "064978ca",
   "metadata": {},
   "outputs": [],
   "source": [
    "npair_orders = int(len(order_locations)/2)\n",
    "pickup_orders = cudf.Series([i for i in range(npair_orders)])\n",
    "delivery_orders = cudf.Series([i + npair_orders for i in range(npair_orders)])\n",
    "\n",
    "# add pickup and delivery pairs.\n",
    "data_model.set_pickup_delivery_pairs(pickup_orders, delivery_orders)"
   ]
  },
  {
   "cell_type": "markdown",
   "id": "7f8f10e8",
   "metadata": {},
   "source": [
    "\n",
    "#### Set the per order demand\n",
    "\n",
    "From the perspective of the cuOpt solver, each distinct transaction (pickup order or delivery order) are treated separately with demand for pickup denoted as positive and the corresponding delivery treated as negative demand."
   ]
  },
  {
   "cell_type": "code",
   "execution_count": 9,
   "id": "c936b137",
   "metadata": {},
   "outputs": [],
   "source": [
    "# This is the number of goods that need to be delivered\n",
    "raw_demand = customer_order_data[\"order_demand\"]\n",
    "\n",
    "# When dropping off goods, remove one unit of demand from the vehicle\n",
    "drop_off_demand = raw_demand * -1\n",
    "\n",
    "# Create pickup and delivery demand\n",
    "order_demand = cudf.concat([raw_demand, drop_off_demand], ignore_index=True)\n",
    "\n",
    "order_demand\n",
    "\n",
    "# add the capacity dimension\n",
    "data_model.add_capacity_dimension(\"demand\", order_demand, vehicle_capacity)"
   ]
  },
  {
   "cell_type": "markdown",
   "id": "ef21d42d",
   "metadata": {},
   "source": [
    "#### Time Windows\n",
    "\n",
    "Create per order time windows similar to demand.  Set earliest time and service time of depot to be zero and the latest time to be a large value so that all orders are fulfilled. "
   ]
  },
  {
   "cell_type": "code",
   "execution_count": 10,
   "id": "b3f328e3",
   "metadata": {},
   "outputs": [],
   "source": [
    "# create earliest times\n",
    "order_time_window_earliest = cudf.concat([customer_order_data[\"earliest_pickup\"], customer_order_data[\"earliest_delivery\"]], ignore_index=True)\n",
    "\n",
    "# create latest times\n",
    "order_time_window_latest = cudf.concat([customer_order_data[\"latest_pickup\"], customer_order_data[\"latest_delivery\"]], ignore_index=True)\n",
    "\n",
    "# create service times\n",
    "order_service_time = cudf.concat([customer_order_data[\"pickup_service_time\"], customer_order_data[\"delivery_serivice_time\"]], ignore_index=True)\n",
    "\n",
    "# add time window constraints\n",
    "data_model.set_order_time_windows(order_time_window_earliest, order_time_window_latest)\n",
    "data_model.set_order_service_times(order_service_time)\n",
    "\n",
    "# set time windows for the fleet\n",
    "vehicle_earliest_time = cudf.Series([0] * n_vehicles)\n",
    "vehicle_latest_time = cudf.Series([1000] * n_vehicles)\n",
    "\n",
    "data_model.set_vehicle_time_windows(vehicle_earliest_time, vehicle_latest_time)"
   ]
  },
  {
   "cell_type": "markdown",
   "id": "b0d06888",
   "metadata": {},
   "source": [
    "### CuOpt SolverSettings"
   ]
  },
  {
   "cell_type": "markdown",
   "id": "e3e08235",
   "metadata": {},
   "source": [
    "Set up routing.SolverSettings."
   ]
  },
  {
   "cell_type": "code",
   "execution_count": 11,
   "id": "a6babc11",
   "metadata": {
    "scrolled": true
   },
   "outputs": [],
   "source": [
    "solver_settings = routing.SolverSettings()\n",
    "\n",
    "# solver_settings will run for given time limit.  Larger and/or more complex problems may require more time.\n",
    "solver_settings.set_time_limit(0.05)"
   ]
  },
  {
   "cell_type": "markdown",
   "id": "854e9519",
   "metadata": {},
   "source": [
    "### Solution"
   ]
  },
  {
   "cell_type": "code",
   "execution_count": 12,
   "id": "28a05ace",
   "metadata": {},
   "outputs": [
    {
     "name": "stdout",
     "output_type": "stream",
     "text": [
      "Cost for the routing in time:  66.0\n",
      "Vehicle count to complete routing:  2\n",
      "    route  arrival_stamp  truck_id  location      type\n",
      "0       0            0.0         2         0     Depot\n",
      "1       4            6.0         2         1    Pickup\n",
      "2       3           16.0         2         1    Pickup\n",
      "3       8           29.0         2         5  Delivery\n",
      "4       9           42.0         2         6  Delivery\n",
      "5       1           56.0         2         0    Pickup\n",
      "6       6           72.0         2         3  Delivery\n",
      "7       0           88.0         2         0     Depot\n",
      "8       0            0.0         1         0     Depot\n",
      "9       0            0.0         1         0    Pickup\n",
      "10      5           20.0         1         2  Delivery\n",
      "11      2           36.0         1         1    Pickup\n",
      "12      7           58.0         1         4  Delivery\n",
      "13      0           78.0         1         0     Depot\n"
     ]
    }
   ],
   "source": [
    "routing_solution = routing.Solve(data_model, solver_settings)\n",
    "if routing_solution.get_status() == 0:\n",
    "    print(\"Cost for the routing in time: \", routing_solution.final_cost)\n",
    "    print(\"Vehicle count to complete routing: \", routing_solution.vehicle_count)\n",
    "    print(routing_solution.route)\n",
    "else:\n",
    "    print(\"NVIDIA cuOpt Failed to find a solution with status : \", routing_solution.get_status())"
   ]
  }
 ],
 "metadata": {
  "interpreter": {
   "hash": "0f29e496949dc4ef652a1afa2d601ce2913fc84758b70efb060a954cb0e2d83f"
  },
  "kernelspec": {
   "display_name": "Python 3 (ipykernel)",
   "language": "python",
   "name": "python3"
  },
  "language_info": {
   "codemirror_mode": {
    "name": "ipython",
    "version": 3
   },
   "file_extension": ".py",
   "mimetype": "text/x-python",
   "name": "python",
   "nbconvert_exporter": "python",
   "pygments_lexer": "ipython3",
   "version": "3.9.15"
  }
 },
 "nbformat": 4,
 "nbformat_minor": 5
}
