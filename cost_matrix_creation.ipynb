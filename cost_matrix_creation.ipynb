{
 "cells": [
  {
   "cell_type": "code",
   "execution_count": 1,
   "id": "dfba40d6",
   "metadata": {},
   "outputs": [],
   "source": [
    "from cuopt import routing\n",
    "from cuopt import distance_engine\n",
    "import cudf\n",
    "from scipy.spatial import distance\n",
    "import numpy as np\n",
    "import requests\n",
    "import polyline\n",
    "import folium\n",
    "import json"
   ]
  },
  {
   "cell_type": "markdown",
   "id": "cd4716e9",
   "metadata": {},
   "source": [
    "# Cost Matrix Calculation"
   ]
  },
  {
   "cell_type": "markdown",
   "id": "bdff7c68",
   "metadata": {},
   "source": [
    "The cost matrix represents the user defined cost of traversing from one state/location in the optimization problem to another. This matrix is what cuOpt uses to assess the quality of a given solution as it seeks to minimize the total cost.\n",
    "\n",
    "The cost matrix is a square matrix of dimension equal to the number of locations in a given problem. In the example below we see an illustration of one such matrix."
   ]
  },
  {
   "cell_type": "markdown",
   "id": "991cad72",
   "metadata": {},
   "source": [
    "<img src=\"./notebook_utils/images/cost_matrix.png\" alt=\"cost_matrix.png not found]\" width=\"750\"/>"
   ]
  },
  {
   "cell_type": "markdown",
   "id": "ed85b5b1",
   "metadata": {},
   "source": [
    "Additionally:\n",
    "- The cost of going from a location to itself (e.g Cost(A,A)) is typically 0 \n",
    "- Cost(A,B) need not be equal to Cost(B,A)"
   ]
  },
  {
   "cell_type": "markdown",
   "id": "2fe0488b",
   "metadata": {},
   "source": [
    "## Simple Metric"
   ]
  },
  {
   "cell_type": "markdown",
   "id": "667af128",
   "metadata": {},
   "source": [
    "In some simple cases a cost matrix can be generated from a list of points according to a user defined metric (e.g. Euclidean, Manhattan, etc.)"
   ]
  },
  {
   "cell_type": "code",
   "execution_count": 2,
   "id": "01c4a7de",
   "metadata": {},
   "outputs": [
    {
     "data": {
      "text/html": [
       "<div>\n",
       "<style scoped>\n",
       "    .dataframe tbody tr th:only-of-type {\n",
       "        vertical-align: middle;\n",
       "    }\n",
       "\n",
       "    .dataframe tbody tr th {\n",
       "        vertical-align: top;\n",
       "    }\n",
       "\n",
       "    .dataframe thead th {\n",
       "        text-align: right;\n",
       "    }\n",
       "</style>\n",
       "<table border=\"1\" class=\"dataframe\">\n",
       "  <thead>\n",
       "    <tr style=\"text-align: right;\">\n",
       "      <th></th>\n",
       "      <th>x_coord</th>\n",
       "      <th>y_coord</th>\n",
       "    </tr>\n",
       "  </thead>\n",
       "  <tbody>\n",
       "    <tr>\n",
       "      <th>0</th>\n",
       "      <td>1</td>\n",
       "      <td>3</td>\n",
       "    </tr>\n",
       "    <tr>\n",
       "      <th>1</th>\n",
       "      <td>1</td>\n",
       "      <td>1</td>\n",
       "    </tr>\n",
       "    <tr>\n",
       "      <th>2</th>\n",
       "      <td>2</td>\n",
       "      <td>4</td>\n",
       "    </tr>\n",
       "    <tr>\n",
       "      <th>3</th>\n",
       "      <td>3</td>\n",
       "      <td>1</td>\n",
       "    </tr>\n",
       "  </tbody>\n",
       "</table>\n",
       "</div>"
      ],
      "text/plain": [
       "   x_coord  y_coord\n",
       "0        1        3\n",
       "1        1        1\n",
       "2        2        4\n",
       "3        3        1"
      ]
     },
     "execution_count": 2,
     "metadata": {},
     "output_type": "execute_result"
    }
   ],
   "source": [
    "points = cudf.DataFrame({\"x_coord\": [1, 1, 2, 3], \"y_coord\":[3, 1, 4, 1]})\n",
    "points"
   ]
  },
  {
   "cell_type": "code",
   "execution_count": 3,
   "id": "b52d43bb",
   "metadata": {},
   "outputs": [
    {
     "name": "stdout",
     "output_type": "stream",
     "text": [
      "Simple Metric Cost Matrix:\n",
      "\n",
      "[[0.         2.         1.41421356 2.82842712]\n",
      " [2.         0.         3.16227766 2.        ]\n",
      " [1.41421356 3.16227766 0.         3.16227766]\n",
      " [2.82842712 2.         3.16227766 0.        ]]\n"
     ]
    }
   ],
   "source": [
    "cost_matrix = distance.cdist(points.to_pandas().values, points.to_pandas().values, \"euclidean\")\n",
    "print(f\"Simple Metric Cost Matrix:\\n\\n{cost_matrix}\")"
   ]
  },
  {
   "cell_type": "markdown",
   "id": "eb39ea0f",
   "metadata": {},
   "source": [
    "## Weighted Waypoint Graph"
   ]
  },
  {
   "cell_type": "markdown",
   "id": "a72d76a3",
   "metadata": {},
   "source": [
    "In cases where a unique environment needs to be described such as in the case of factories or warehouses it can be useful to define a waypoint graph that defines the cost of travel between adjacent accessible points in the environment.\n",
    "\n",
    "cuOpt has built in functionality to compute a cost matrix based on key target locations within a given waypoint graph. In the graph below we model 10 distinct waypoints.  The target locations are 0, 4, 5, and 6."
   ]
  },
  {
   "cell_type": "markdown",
   "id": "d8afe1d6",
   "metadata": {},
   "source": [
    "<img src=\"./notebook_utils/images/waypoint_graph.png\" alt=\"waypoint_graph.png not found]\" width=\"550\"/>"
   ]
  },
  {
   "cell_type": "markdown",
   "id": "fadc253b",
   "metadata": {},
   "source": [
    "#### Graph Description\n",
    "A simple description of each node, it's outgoing edges and corresponding weights"
   ]
  },
  {
   "cell_type": "code",
   "execution_count": 4,
   "id": "f8bf07e3",
   "metadata": {},
   "outputs": [],
   "source": [
    "graph = {\n",
    "    0:{\n",
    "        \"edges\":[2], \n",
    "        \"weights\":[2]},\n",
    "    1:{\n",
    "        \"edges\":[2, 4], \n",
    "        \"weights\":[2, 2]},\n",
    "    2:{\n",
    "        \"edges\":[0, 1, 3, 5], \n",
    "        \"weights\":[2, 2, 2, 2]},\n",
    "    3:{\n",
    "        \"edges\":[2, 6], \n",
    "        \"weights\":[2, 2]},\n",
    "    4:{\n",
    "        \"edges\":[1, 7], \n",
    "        \"weights\":[2, 1]},\n",
    "    5:{\n",
    "        \"edges\":[2, 8], \n",
    "        \"weights\":[2, 1]},\n",
    "    6:{\n",
    "        \"edges\":[3, 9], \n",
    "        \"weights\":[2, 1]},\n",
    "    7:{\n",
    "        \"edges\":[4, 8], \n",
    "        \"weights\":[1, 2]},\n",
    "    8:{\n",
    "        \"edges\":[5, 7, 9], \n",
    "        \"weights\":[1, 2, 2]},\n",
    "    9:{\n",
    "        \"edges\":[6, 8], \n",
    "        \"weights\":[1, 2]}\n",
    "}"
   ]
  },
  {
   "cell_type": "markdown",
   "id": "54d51f36",
   "metadata": {},
   "source": [
    "#### Convert to CSR\n",
    "cuOpt requires that the graph be in compressed sparse row (CSR) format.  Here we define a simple function that converts our graph to CSR."
   ]
  },
  {
   "cell_type": "code",
   "execution_count": 5,
   "id": "ace5c271",
   "metadata": {},
   "outputs": [],
   "source": [
    "def convert_to_csr(graph):\n",
    "    num_nodes = len(graph)\n",
    "    \n",
    "    offsets = []\n",
    "    edges = []\n",
    "    weights = []\n",
    "    \n",
    "    cur_offset = 0\n",
    "    for node in range(num_nodes):\n",
    "        offsets.append(cur_offset)\n",
    "        cur_offset += len(graph[node][\"edges\"])\n",
    "        \n",
    "        edges = edges + graph[node][\"edges\"]\n",
    "        weights = weights + graph[node][\"weights\"]\n",
    "        \n",
    "    offsets.append(cur_offset)\n",
    "    \n",
    "    return np.array(offsets), np.array(edges), np.array(weights)"
   ]
  },
  {
   "cell_type": "code",
   "execution_count": 6,
   "id": "fed80f3a",
   "metadata": {},
   "outputs": [
    {
     "name": "stdout",
     "output_type": "stream",
     "text": [
      "offsets = [0, 1, 3, 7, 9, 11, 13, 15, 17, 20, 22]\n",
      "edges =   [2, 2, 4, 0, 1, 3, 5, 2, 6, 1, 7, 2, 8, 3, 9, 4, 8, 5, 7, 9, 6, 8]\n",
      "weights = [2, 2, 2, 2, 2, 2, 2, 2, 2, 2, 1, 2, 1, 2, 1, 1, 2, 1, 2, 2, 1, 2]\n"
     ]
    }
   ],
   "source": [
    "offsets, edges, weights = convert_to_csr(graph)\n",
    "print(f\"offsets = {list(offsets)}\")\n",
    "print(f\"edges =   {list(edges)}\")\n",
    "print(f\"weights = {list(weights)}\")"
   ]
  },
  {
   "cell_type": "markdown",
   "id": "17f18f56",
   "metadata": {},
   "source": [
    "#### Define desired target locations and calculate the cost matrix "
   ]
  },
  {
   "cell_type": "code",
   "execution_count": 7,
   "id": "45ddc548",
   "metadata": {},
   "outputs": [],
   "source": [
    "target_locations = np.array([0, 4, 5, 6])"
   ]
  },
  {
   "cell_type": "code",
   "execution_count": 8,
   "id": "475edfd9",
   "metadata": {
    "scrolled": true
   },
   "outputs": [
    {
     "name": "stdout",
     "output_type": "stream",
     "text": [
      "Index <-> Waypoint Mapping: \n",
      "{0: 0, 1: 4, 2: 5, 3: 6}\n",
      "\n",
      " Waypoint Graph Cost Matrix: \n",
      "     0    1    2    3\n",
      "0  0.0  6.0  4.0  6.0\n",
      "1  6.0  0.0  4.0  6.0\n",
      "2  4.0  4.0  0.0  4.0\n",
      "3  6.0  6.0  4.0  0.0\n"
     ]
    }
   ],
   "source": [
    "waypoint_graph = distance_engine.WaypointMatrix(\n",
    "    offsets,\n",
    "    edges,\n",
    "    weights\n",
    ")\n",
    "cost_matrix = waypoint_graph.compute_cost_matrix(target_locations)\n",
    "target_map = {k:v for k, v in enumerate(target_locations)}\n",
    "\n",
    "print(f\"Index <-> Waypoint Mapping: \\n{target_map}\\n\\n Waypoint Graph Cost Matrix: \\n{cost_matrix}\")"
   ]
  },
  {
   "cell_type": "markdown",
   "id": "cc7349c1",
   "metadata": {},
   "source": [
    "## Map Based"
   ]
  },
  {
   "cell_type": "markdown",
   "id": "c1ea0b6e",
   "metadata": {},
   "source": [
    "When dealing with problems in shipping and logistics, road distance and/or time is often used as a cost metric.  In these cases there are a number of tools available to calculate drive distance and/or time.  One such tool is the [Open Source Routing Machine](http://project-osrm.org/)(OSRM).  In the below example we create a cost matrix using OSRM from a list of lat/lon coordinates."
   ]
  },
  {
   "cell_type": "markdown",
   "id": "5aeac027-820c-4595-ae19-1c25d4ed4e59",
   "metadata": {},
   "source": [
    "Ampol HQ -33.90717331392265, 151.1970757927905\n",
    "Ampol Woolworths -33.90205317822677, 151.19997257845284\n",
    "Ampol Woollahra -33.87636484074775, 151.2526643974862\n",
    "Ampol Padstow -33.89278990156987, 151.0687065036508"
   ]
  },
  {
   "cell_type": "markdown",
   "id": "0c6a374a",
   "metadata": {},
   "source": [
    "#### Define Points of Interest"
   ]
  },
  {
   "cell_type": "code",
   "execution_count": 12,
   "id": "3671b3e9",
   "metadata": {},
   "outputs": [],
   "source": [
    "lat_lon_coords = [\n",
    "    [-33.907173, 151.197075],\n",
    "    [-33.9020531, 151.199972], \n",
    "    [-33.876364, 151.252664], \n",
    "    [-33.892789, 151.068706]\n",
    "] "
   ]
  },
  {
   "cell_type": "markdown",
   "id": "2bf8d58a",
   "metadata": {},
   "source": [
    "#### Create Distance Matrix via OSRM"
   ]
  },
  {
   "cell_type": "code",
   "execution_count": 13,
   "id": "0b1e0a74",
   "metadata": {},
   "outputs": [
    {
     "name": "stdout",
     "output_type": "stream",
     "text": [
      "Cost Matrix via OSRM:\n",
      "\n"
     ]
    },
    {
     "data": {
      "text/html": [
       "<div>\n",
       "<style scoped>\n",
       "    .dataframe tbody tr th:only-of-type {\n",
       "        vertical-align: middle;\n",
       "    }\n",
       "\n",
       "    .dataframe tbody tr th {\n",
       "        vertical-align: top;\n",
       "    }\n",
       "\n",
       "    .dataframe thead th {\n",
       "        text-align: right;\n",
       "    }\n",
       "</style>\n",
       "<table border=\"1\" class=\"dataframe\">\n",
       "  <thead>\n",
       "    <tr style=\"text-align: right;\">\n",
       "      <th></th>\n",
       "      <th>[-33.907173, 151.197075]</th>\n",
       "      <th>[-33.9020531, 151.199972]</th>\n",
       "      <th>[-33.876364, 151.252664]</th>\n",
       "      <th>[-33.892789, 151.068706]</th>\n",
       "    </tr>\n",
       "  </thead>\n",
       "  <tbody>\n",
       "    <tr>\n",
       "      <th>[-33.907173, 151.197075]</th>\n",
       "      <td>0.0</td>\n",
       "      <td>130.8</td>\n",
       "      <td>814.7</td>\n",
       "      <td>1438.2</td>\n",
       "    </tr>\n",
       "    <tr>\n",
       "      <th>[-33.9020531, 151.199972]</th>\n",
       "      <td>131.4</td>\n",
       "      <td>0.0</td>\n",
       "      <td>769.4</td>\n",
       "      <td>1462.0</td>\n",
       "    </tr>\n",
       "    <tr>\n",
       "      <th>[-33.876364, 151.252664]</th>\n",
       "      <td>812.9</td>\n",
       "      <td>752.3</td>\n",
       "      <td>0.0</td>\n",
       "      <td>1765.5</td>\n",
       "    </tr>\n",
       "    <tr>\n",
       "      <th>[-33.892789, 151.068706]</th>\n",
       "      <td>1438.5</td>\n",
       "      <td>1439.1</td>\n",
       "      <td>1775.1</td>\n",
       "      <td>0.0</td>\n",
       "    </tr>\n",
       "  </tbody>\n",
       "</table>\n",
       "</div>"
      ],
      "text/plain": [
       "                           [-33.907173, 151.197075]  \\\n",
       "[-33.907173, 151.197075]                        0.0   \n",
       "[-33.9020531, 151.199972]                     131.4   \n",
       "[-33.876364, 151.252664]                      812.9   \n",
       "[-33.892789, 151.068706]                     1438.5   \n",
       "\n",
       "                           [-33.9020531, 151.199972]  \\\n",
       "[-33.907173, 151.197075]                       130.8   \n",
       "[-33.9020531, 151.199972]                        0.0   \n",
       "[-33.876364, 151.252664]                       752.3   \n",
       "[-33.892789, 151.068706]                      1439.1   \n",
       "\n",
       "                           [-33.876364, 151.252664]  [-33.892789, 151.068706]  \n",
       "[-33.907173, 151.197075]                      814.7                    1438.2  \n",
       "[-33.9020531, 151.199972]                     769.4                    1462.0  \n",
       "[-33.876364, 151.252664]                        0.0                    1765.5  \n",
       "[4 rows x 4 columns]"
      ]
     },
     "execution_count": 13,
     "metadata": {},
     "output_type": "execute_result"
    }
   ],
   "source": [
    "locations=\"\"\n",
    "for loc in lat_lon_coords:\n",
    "    locations = locations + \"{},{};\".format(loc[1], loc[0])\n",
    "r = requests.get(\"http://router.project-osrm.org/table/v1/driving/\"+ locations[:-1])\n",
    "\n",
    "routes = json.loads(r.content)\n",
    "cols = [str(i) for i in lat_lon_coords]\n",
    "cost_matrix = cudf.DataFrame(routes['durations'], columns = cols, index= cols)\n",
    "print(f\"Cost Matrix via OSRM:\\n\")\n",
    "cost_matrix"
   ]
  },
  {
   "cell_type": "markdown",
   "id": "3f6e69fc",
   "metadata": {},
   "source": [
    "#### Map Visualization"
   ]
  },
  {
   "cell_type": "markdown",
   "id": "d71a3260",
   "metadata": {},
   "source": [
    "Visualization can be a helpful tool for understanding and communication.  Here we demonstrate a sample visualization implementation showing the routes represented by the cost matrix above."
   ]
  },
  {
   "cell_type": "code",
   "execution_count": 15,
   "id": "15508e51",
   "metadata": {},
   "outputs": [
    {
     "data": {
      "text/html": [
       "<div style=\"width:100%;\"><div style=\"position:relative;width:100%;height:0;padding-bottom:60%;\"><span style=\"color:#565656\">Make this Notebook Trusted to load map: File -> Trust Notebook</span><iframe srcdoc=\"&lt;!DOCTYPE html&gt;\n",
       "&lt;html&gt;\n",
       "&lt;head&gt;\n",
       "    \n",
       "    &lt;meta http-equiv=&quot;content-type&quot; content=&quot;text/html; charset=UTF-8&quot; /&gt;\n",
       "    \n",
       "        &lt;script&gt;\n",
       "            L_NO_TOUCH = false;\n",
       "            L_DISABLE_3D = false;\n",
       "        &lt;/script&gt;\n",
       "    \n",
       "    &lt;style&gt;html, body {width: 100%;height: 100%;margin: 0;padding: 0;}&lt;/style&gt;\n",
       "    &lt;style&gt;#map {position:absolute;top:0;bottom:0;right:0;left:0;}&lt;/style&gt;\n",
       "    &lt;script src=&quot;https://cdn.jsdelivr.net/npm/leaflet@1.6.0/dist/leaflet.js&quot;&gt;&lt;/script&gt;\n",
       "    &lt;script src=&quot;https://code.jquery.com/jquery-1.12.4.min.js&quot;&gt;&lt;/script&gt;\n",
       "    &lt;script src=&quot;https://maxcdn.bootstrapcdn.com/bootstrap/3.2.0/js/bootstrap.min.js&quot;&gt;&lt;/script&gt;\n",
       "    &lt;script src=&quot;https://cdnjs.cloudflare.com/ajax/libs/Leaflet.awesome-markers/2.0.2/leaflet.awesome-markers.js&quot;&gt;&lt;/script&gt;\n",
       "    &lt;link rel=&quot;stylesheet&quot; href=&quot;https://cdn.jsdelivr.net/npm/leaflet@1.6.0/dist/leaflet.css&quot;/&gt;\n",
       "    &lt;link rel=&quot;stylesheet&quot; href=&quot;https://maxcdn.bootstrapcdn.com/bootstrap/3.2.0/css/bootstrap.min.css&quot;/&gt;\n",
       "    &lt;link rel=&quot;stylesheet&quot; href=&quot;https://maxcdn.bootstrapcdn.com/bootstrap/3.2.0/css/bootstrap-theme.min.css&quot;/&gt;\n",
       "    &lt;link rel=&quot;stylesheet&quot; href=&quot;https://maxcdn.bootstrapcdn.com/font-awesome/4.6.3/css/font-awesome.min.css&quot;/&gt;\n",
       "    &lt;link rel=&quot;stylesheet&quot; href=&quot;https://cdnjs.cloudflare.com/ajax/libs/Leaflet.awesome-markers/2.0.2/leaflet.awesome-markers.css&quot;/&gt;\n",
       "    &lt;link rel=&quot;stylesheet&quot; href=&quot;https://cdn.jsdelivr.net/gh/python-visualization/folium/folium/templates/leaflet.awesome.rotate.min.css&quot;/&gt;\n",
       "    \n",
       "            &lt;meta name=&quot;viewport&quot; content=&quot;width=device-width,\n",
       "                initial-scale=1.0, maximum-scale=1.0, user-scalable=no&quot; /&gt;\n",
       "            &lt;style&gt;\n",
       "                #map_0585d9c097a4baf77ec2884e5c4309ac {\n",
       "                    position: relative;\n",
       "                    width: 100.0%;\n",
       "                    height: 100.0%;\n",
       "                    left: 0.0%;\n",
       "                    top: 0.0%;\n",
       "                }\n",
       "            &lt;/style&gt;\n",
       "        \n",
       "&lt;/head&gt;\n",
       "&lt;body&gt;\n",
       "    \n",
       "    \n",
       "            &lt;div class=&quot;folium-map&quot; id=&quot;map_0585d9c097a4baf77ec2884e5c4309ac&quot; &gt;&lt;/div&gt;\n",
       "        \n",
       "&lt;/body&gt;\n",
       "&lt;script&gt;\n",
       "    \n",
       "    \n",
       "            var map_0585d9c097a4baf77ec2884e5c4309ac = L.map(\n",
       "                &quot;map_0585d9c097a4baf77ec2884e5c4309ac&quot;,\n",
       "                {\n",
       "                    center: [-33.9, 151.19],\n",
       "                    crs: L.CRS.EPSG3857,\n",
       "                    zoom: 13,\n",
       "                    zoomControl: true,\n",
       "                    preferCanvas: false,\n",
       "                }\n",
       "            );\n",
       "\n",
       "            \n",
       "\n",
       "        \n",
       "    \n",
       "            var tile_layer_6225f231f8fce8f66d9c9aa0b16dd998 = L.tileLayer(\n",
       "                &quot;https://{s}.tile.openstreetmap.org/{z}/{x}/{y}.png&quot;,\n",
       "                {&quot;attribution&quot;: &quot;Data by \\u0026copy; \\u003ca href=\\&quot;http://openstreetmap.org\\&quot;\\u003eOpenStreetMap\\u003c/a\\u003e, under \\u003ca href=\\&quot;http://www.openstreetmap.org/copyright\\&quot;\\u003eODbL\\u003c/a\\u003e.&quot;, &quot;detectRetina&quot;: false, &quot;maxNativeZoom&quot;: 18, &quot;maxZoom&quot;: 18, &quot;minZoom&quot;: 0, &quot;noWrap&quot;: false, &quot;opacity&quot;: 1, &quot;subdomains&quot;: &quot;abc&quot;, &quot;tms&quot;: false}\n",
       "            ).addTo(map_0585d9c097a4baf77ec2884e5c4309ac);\n",
       "        \n",
       "    \n",
       "            var marker_ce7f89271fefc6896dcdadca893e578d = L.marker(\n",
       "                [-33.907173, 151.197075],\n",
       "                {}\n",
       "            ).addTo(map_0585d9c097a4baf77ec2884e5c4309ac);\n",
       "        \n",
       "    \n",
       "            var icon_aa3a92cbfe95f9030ee1eca8128405a6 = L.AwesomeMarkers.icon(\n",
       "                {&quot;extraClasses&quot;: &quot;fa-rotate-0&quot;, &quot;icon&quot;: &quot;play&quot;, &quot;iconColor&quot;: &quot;white&quot;, &quot;markerColor&quot;: &quot;red&quot;, &quot;prefix&quot;: &quot;glyphicon&quot;}\n",
       "            );\n",
       "            marker_ce7f89271fefc6896dcdadca893e578d.setIcon(icon_aa3a92cbfe95f9030ee1eca8128405a6);\n",
       "        \n",
       "    \n",
       "            var marker_3d67597fc92445443f2890777b819053 = L.marker(\n",
       "                [-33.9020531, 151.199972],\n",
       "                {}\n",
       "            ).addTo(map_0585d9c097a4baf77ec2884e5c4309ac);\n",
       "        \n",
       "    \n",
       "            var icon_7208a1fce84306a6ece06d6418dd9eef = L.AwesomeMarkers.icon(\n",
       "                {&quot;extraClasses&quot;: &quot;fa-rotate-0&quot;, &quot;icon&quot;: &quot;stop&quot;, &quot;iconColor&quot;: &quot;white&quot;, &quot;markerColor&quot;: &quot;green&quot;, &quot;prefix&quot;: &quot;glyphicon&quot;}\n",
       "            );\n",
       "            marker_3d67597fc92445443f2890777b819053.setIcon(icon_7208a1fce84306a6ece06d6418dd9eef);\n",
       "        \n",
       "    \n",
       "            var marker_a714e65f9e0112eb71775656e99a7f0b = L.marker(\n",
       "                [-33.876364, 151.252664],\n",
       "                {}\n",
       "            ).addTo(map_0585d9c097a4baf77ec2884e5c4309ac);\n",
       "        \n",
       "    \n",
       "            var icon_d8583384860098c42845065873c66cf3 = L.AwesomeMarkers.icon(\n",
       "                {&quot;extraClasses&quot;: &quot;fa-rotate-0&quot;, &quot;icon&quot;: &quot;stop&quot;, &quot;iconColor&quot;: &quot;white&quot;, &quot;markerColor&quot;: &quot;green&quot;, &quot;prefix&quot;: &quot;glyphicon&quot;}\n",
       "            );\n",
       "            marker_a714e65f9e0112eb71775656e99a7f0b.setIcon(icon_d8583384860098c42845065873c66cf3);\n",
       "        \n",
       "    \n",
       "            var marker_3220962479d08cfb7e23644527c094cc = L.marker(\n",
       "                [-33.892789, 151.068706],\n",
       "                {}\n",
       "            ).addTo(map_0585d9c097a4baf77ec2884e5c4309ac);\n",
       "        \n",
       "    \n",
       "            var icon_d05a8dc05ce4d27e4a12d921eddca179 = L.AwesomeMarkers.icon(\n",
       "                {&quot;extraClasses&quot;: &quot;fa-rotate-0&quot;, &quot;icon&quot;: &quot;stop&quot;, &quot;iconColor&quot;: &quot;white&quot;, &quot;markerColor&quot;: &quot;green&quot;, &quot;prefix&quot;: &quot;glyphicon&quot;}\n",
       "            );\n",
       "            marker_3220962479d08cfb7e23644527c094cc.setIcon(icon_d05a8dc05ce4d27e4a12d921eddca179);\n",
       "        \n",
       "    \n",
       "            var poly_line_5e357bd5b157c170964dbb7d50c18bf3 = L.polyline(\n",
       "                [[-33.90208, 151.19986], [-33.90222, 151.19992], [-33.90211, 151.20029], [-33.90409, 151.2011], [-33.90503, 151.19928], [-33.90617, 151.19781], [-33.90691, 151.1986], [-33.90754, 151.19776], [-33.90805, 151.19746], [-33.90763, 151.19699]],\n",
       "                {&quot;bubblingMouseEvents&quot;: true, &quot;color&quot;: &quot;blue&quot;, &quot;dashArray&quot;: null, &quot;dashOffset&quot;: null, &quot;fill&quot;: false, &quot;fillColor&quot;: &quot;blue&quot;, &quot;fillOpacity&quot;: 0.2, &quot;fillRule&quot;: &quot;evenodd&quot;, &quot;lineCap&quot;: &quot;round&quot;, &quot;lineJoin&quot;: &quot;round&quot;, &quot;noClip&quot;: false, &quot;opacity&quot;: 0.6, &quot;smoothFactor&quot;: 1.0, &quot;stroke&quot;: true, &quot;weight&quot;: 5}\n",
       "            ).addTo(map_0585d9c097a4baf77ec2884e5c4309ac);\n",
       "        \n",
       "    \n",
       "            var poly_line_373e36552241ad3b28609faa57560d7c = L.polyline(\n",
       "                [[-33.87643, 151.25303], [-33.87303, 151.25258], [-33.87319, 151.25014], [-33.87279, 151.24822], [-33.87328, 151.2473], [-33.87476, 151.24712], [-33.87715, 151.24485], [-33.87767, 151.24306], [-33.87853, 151.24195], [-33.87865, 151.24006], [-33.87924, 151.23848], [-33.87868, 151.23524], [-33.87711, 151.23321], [-33.87676, 151.23071], [-33.87685, 151.22813], [-33.87612, 151.22301], [-33.87509, 151.22061], [-33.87463, 151.21817], [-33.87416, 151.2181], [-33.87412, 151.21756], [-33.87511, 151.21722], [-33.8805, 151.21699], [-33.88389, 151.21759], [-33.88535, 151.21816], [-33.90094, 151.21511], [-33.9002, 151.21033], [-33.90329, 151.20698], [-33.90547, 151.20296], [-33.90637, 151.1993], [-33.90805, 151.19746], [-33.90763, 151.19699]],\n",
       "                {&quot;bubblingMouseEvents&quot;: true, &quot;color&quot;: &quot;blue&quot;, &quot;dashArray&quot;: null, &quot;dashOffset&quot;: null, &quot;fill&quot;: false, &quot;fillColor&quot;: &quot;blue&quot;, &quot;fillOpacity&quot;: 0.2, &quot;fillRule&quot;: &quot;evenodd&quot;, &quot;lineCap&quot;: &quot;round&quot;, &quot;lineJoin&quot;: &quot;round&quot;, &quot;noClip&quot;: false, &quot;opacity&quot;: 0.6, &quot;smoothFactor&quot;: 1.0, &quot;stroke&quot;: true, &quot;weight&quot;: 5}\n",
       "            ).addTo(map_0585d9c097a4baf77ec2884e5c4309ac);\n",
       "        \n",
       "    \n",
       "            var poly_line_bda0c7faca247a9643b338689b92d76e = L.polyline(\n",
       "                [[-33.87643, 151.25303], [-33.87303, 151.25258], [-33.87319, 151.25014], [-33.87279, 151.24822], [-33.87328, 151.2473], [-33.87476, 151.24712], [-33.87715, 151.24485], [-33.87767, 151.24306], [-33.87853, 151.24195], [-33.87865, 151.24006], [-33.87924, 151.23848], [-33.87868, 151.23524], [-33.87711, 151.23321], [-33.87676, 151.23071], [-33.87685, 151.22813], [-33.87612, 151.22301], [-33.87509, 151.22061], [-33.87463, 151.21817], [-33.87416, 151.2181], [-33.87412, 151.21756], [-33.87511, 151.21722], [-33.8805, 151.21699], [-33.88389, 151.21759], [-33.88535, 151.21816], [-33.90094, 151.21511], [-33.9002, 151.21033], [-33.90081, 151.20978], [-33.90027, 151.20618], [-33.90185, 151.19979], [-33.90208, 151.19986]],\n",
       "                {&quot;bubblingMouseEvents&quot;: true, &quot;color&quot;: &quot;blue&quot;, &quot;dashArray&quot;: null, &quot;dashOffset&quot;: null, &quot;fill&quot;: false, &quot;fillColor&quot;: &quot;blue&quot;, &quot;fillOpacity&quot;: 0.2, &quot;fillRule&quot;: &quot;evenodd&quot;, &quot;lineCap&quot;: &quot;round&quot;, &quot;lineJoin&quot;: &quot;round&quot;, &quot;noClip&quot;: false, &quot;opacity&quot;: 0.6, &quot;smoothFactor&quot;: 1.0, &quot;stroke&quot;: true, &quot;weight&quot;: 5}\n",
       "            ).addTo(map_0585d9c097a4baf77ec2884e5c4309ac);\n",
       "        \n",
       "    \n",
       "            var poly_line_b77fddd56b0344f68ea0c43fd3630cee = L.polyline(\n",
       "                [[-33.89225, 151.06925], [-33.89578, 151.07119], [-33.89614, 151.07284], [-33.89891, 151.07398], [-33.8993, 151.07508], [-33.89849, 151.07522], [-33.90632, 151.0787], [-33.9022, 151.08351], [-33.89987, 151.08806], [-33.89337, 151.117], [-33.88863, 151.11736], [-33.88096, 151.12239], [-33.87705, 151.12927], [-33.87591, 151.13325], [-33.87414, 151.13662], [-33.8746, 151.13848], [-33.87628, 151.13969], [-33.87514, 151.14933], [-33.8766, 151.15413], [-33.8854, 151.16914], [-33.88848, 151.1727], [-33.89125, 151.17448], [-33.90181, 151.17865], [-33.90921, 151.18015], [-33.90862, 151.18116], [-33.90716, 151.18145], [-33.90694, 151.18267], [-33.90801, 151.19052], [-33.91091, 151.195], [-33.9087, 151.19708], [-33.90805, 151.19746], [-33.90763, 151.19699]],\n",
       "                {&quot;bubblingMouseEvents&quot;: true, &quot;color&quot;: &quot;blue&quot;, &quot;dashArray&quot;: null, &quot;dashOffset&quot;: null, &quot;fill&quot;: false, &quot;fillColor&quot;: &quot;blue&quot;, &quot;fillOpacity&quot;: 0.2, &quot;fillRule&quot;: &quot;evenodd&quot;, &quot;lineCap&quot;: &quot;round&quot;, &quot;lineJoin&quot;: &quot;round&quot;, &quot;noClip&quot;: false, &quot;opacity&quot;: 0.6, &quot;smoothFactor&quot;: 1.0, &quot;stroke&quot;: true, &quot;weight&quot;: 5}\n",
       "            ).addTo(map_0585d9c097a4baf77ec2884e5c4309ac);\n",
       "        \n",
       "    \n",
       "            var poly_line_6fea956283c283cc01e87f175b11efea = L.polyline(\n",
       "                [[-33.89225, 151.06925], [-33.89578, 151.07119], [-33.89614, 151.07284], [-33.89891, 151.07398], [-33.8993, 151.07508], [-33.89849, 151.07522], [-33.90632, 151.0787], [-33.9022, 151.08351], [-33.89987, 151.08806], [-33.89337, 151.117], [-33.88863, 151.11736], [-33.88067, 151.12269], [-33.87705, 151.12927], [-33.87413, 151.1371], [-33.8746, 151.13848], [-33.87628, 151.13969], [-33.87506, 151.14803], [-33.87578, 151.15227], [-33.8854, 151.16914], [-33.88848, 151.1727], [-33.89125, 151.17448], [-33.90181, 151.17865], [-33.90921, 151.18015], [-33.90862, 151.18116], [-33.90716, 151.18145], [-33.90694, 151.18229], [-33.90792, 151.19007], [-33.90335, 151.19498], [-33.90208, 151.19986]],\n",
       "                {&quot;bubblingMouseEvents&quot;: true, &quot;color&quot;: &quot;blue&quot;, &quot;dashArray&quot;: null, &quot;dashOffset&quot;: null, &quot;fill&quot;: false, &quot;fillColor&quot;: &quot;blue&quot;, &quot;fillOpacity&quot;: 0.2, &quot;fillRule&quot;: &quot;evenodd&quot;, &quot;lineCap&quot;: &quot;round&quot;, &quot;lineJoin&quot;: &quot;round&quot;, &quot;noClip&quot;: false, &quot;opacity&quot;: 0.6, &quot;smoothFactor&quot;: 1.0, &quot;stroke&quot;: true, &quot;weight&quot;: 5}\n",
       "            ).addTo(map_0585d9c097a4baf77ec2884e5c4309ac);\n",
       "        \n",
       "    \n",
       "            var poly_line_9deefd90767151b8f9750cdf16859bb8 = L.polyline(\n",
       "                [[-33.89225, 151.06925], [-33.89891, 151.07398], [-33.89849, 151.07522], [-33.90632, 151.0787], [-33.89987, 151.08806], [-33.89337, 151.117], [-33.88863, 151.11736], [-33.88, 151.12344], [-33.86991, 151.14447], [-33.87037, 151.14792], [-33.87487, 151.15264], [-33.87522, 151.15958], [-33.87366, 151.16823], [-33.86782, 151.1803], [-33.87116, 151.19257], [-33.8749, 151.19641], [-33.8739, 151.21429], [-33.87699, 151.23304], [-33.87924, 151.23854], [-33.87715, 151.24485], [-33.87279, 151.24822], [-33.87303, 151.25258], [-33.87643, 151.25303]],\n",
       "                {&quot;bubblingMouseEvents&quot;: true, &quot;color&quot;: &quot;blue&quot;, &quot;dashArray&quot;: null, &quot;dashOffset&quot;: null, &quot;fill&quot;: false, &quot;fillColor&quot;: &quot;blue&quot;, &quot;fillOpacity&quot;: 0.2, &quot;fillRule&quot;: &quot;evenodd&quot;, &quot;lineCap&quot;: &quot;round&quot;, &quot;lineJoin&quot;: &quot;round&quot;, &quot;noClip&quot;: false, &quot;opacity&quot;: 0.6, &quot;smoothFactor&quot;: 1.0, &quot;stroke&quot;: true, &quot;weight&quot;: 5}\n",
       "            ).addTo(map_0585d9c097a4baf77ec2884e5c4309ac);\n",
       "        \n",
       "&lt;/script&gt;\n",
       "&lt;/html&gt;\" style=\"position:absolute;width:100%;height:100%;left:0;top:0;border:none !important;\" allowfullscreen webkitallowfullscreen mozallowfullscreen></iframe></div></div>"
      ],
      "text/plain": [
       "<folium.folium.Map at 0x7fd71c5dbd00>"
      ]
     },
     "execution_count": 15,
     "metadata": {},
     "output_type": "execute_result"
    }
   ],
   "source": [
    "def get_map(my_lat_longs):\n",
    "    m = folium.Map(location=[-33.9, 151.19], #[52.52, 13.41],\n",
    "                   zoom_start=13)\n",
    "    folium.Marker(\n",
    "        location=[my_lat_longs[0][0],my_lat_longs[0][1]] ,\n",
    "        icon=folium.Icon(icon='play', color='red')\n",
    "    ).add_to(m)\n",
    "    for loc in my_lat_longs[1:]:\n",
    "        folium.Marker(\n",
    "            location=[loc[0], loc[1]],\n",
    "            icon=folium.Icon(icon='stop', color='green')\n",
    "        ).add_to(m)\n",
    "            \n",
    "    for src_idx in range(len(lat_lon_coords)):\n",
    "        for dst_idx in range(len(lat_lon_coords)):\n",
    "            if src_idx == dst_idx:\n",
    "                break\n",
    "            source = lat_lon_coords[src_idx]\n",
    "            destination = lat_lon_coords[dst_idx]\n",
    "            loc = \"{},{};{},{}\".format(source[1], source[0], destination[1], destination[0])\n",
    "            url = \"http://router.project-osrm.org/route/v1/driving/\"\n",
    "            r = requests.get(url + loc) \n",
    "\n",
    "            res = r.json()   \n",
    "            routes = polyline.decode(res['routes'][0]['geometry'])\n",
    "\n",
    "            folium.PolyLine(\n",
    "                routes,\n",
    "                weight=5,\n",
    "                color='blue',\n",
    "                opacity=0.6\n",
    "            ).add_to(m)\n",
    "\n",
    "    return m\n",
    "get_map(lat_lon_coords)"
   ]
  }
 ],
 "metadata": {
  "kernelspec": {
   "display_name": "Python 3 (ipykernel)",
   "language": "python",
   "name": "python3"
  },
  "language_info": {
   "codemirror_mode": {
    "name": "ipython",
    "version": 3
   },
   "file_extension": ".py",
   "mimetype": "text/x-python",
   "name": "python",
   "nbconvert_exporter": "python",
   "pygments_lexer": "ipython3",
   "version": "3.9.15"
  },
  "vscode": {
   "interpreter": {
    "hash": "0f29e496949dc4ef652a1afa2d601ce2913fc84758b70efb060a954cb0e2d83f"
   }
  }
 },
 "nbformat": 4,
 "nbformat_minor": 5
}
